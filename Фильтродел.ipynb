{
 "cells": [
  {
   "cell_type": "code",
   "execution_count": 24,
   "id": "2611fba2-2a14-4be3-a64f-8d30861dc1b3",
   "metadata": {},
   "outputs": [],
   "source": [
    "import re\n",
    "import pandas as pd\n",
    "from sqlalchemy import create_engine, text\n",
    "import time\n",
    "import json"
   ]
  },
  {
   "cell_type": "code",
   "execution_count": 41,
   "id": "1590c015",
   "metadata": {},
   "outputs": [],
   "source": [
    "with open(r'../yavki_paroli.txt') as f:\n",
    "    yavki = json.loads(f.read().replace(\"'\",'\"').replace('\\n',''))  "
   ]
  },
  {
   "cell_type": "code",
   "execution_count": 42,
   "id": "06df9f57",
   "metadata": {},
   "outputs": [
    {
     "data": {
      "text/plain": [
       "{'user': 'nyzhur',\n",
       " 'pwd': 'GfkPass121293',\n",
       " 'host': '10.10.0.111',\n",
       " 'port': 5432,\n",
       " 'db': 'pet'}"
      ]
     },
     "execution_count": 42,
     "metadata": {},
     "output_type": "execute_result"
    }
   ],
   "source": [
    "yavki"
   ]
  },
  {
   "cell_type": "code",
   "execution_count": 43,
   "id": "52f1c938",
   "metadata": {},
   "outputs": [],
   "source": [
    "db_config = yavki\n",
    "\n",
    "connection_string = f'postgresql://{db_config['user']}:{db_config['pwd']}@{db_config['host']}:{db_config['port']}/{db_config['db']}'\n",
    "engine = create_engine(connection_string)\n",
    "conn = engine.connect()"
   ]
  },
  {
   "cell_type": "code",
   "execution_count": 5,
   "id": "5c5d4cee",
   "metadata": {},
   "outputs": [],
   "source": [
    "def make_name(name):\n",
    "    return \"flth_\" + re.sub('[^0-9a-zA-Z]+','_',name.lower())"
   ]
  },
  {
   "cell_type": "code",
   "execution_count": 6,
   "id": "2faf9ab2",
   "metadata": {},
   "outputs": [],
   "source": [
    "def make_quere(query, conection):\n",
    "    if conection._still_open_and_dbapi_connection_is_valid == True:\n",
    "        conection.execute(text(query))\n",
    "        conection.commit()\n",
    "    else:\n",
    "        print('Не получилось, пробую ещё раз')\n",
    "        conection.rollback()\n",
    "        conection.execute(text(query))\n",
    "        conection.commit()\n",
    "        \n",
    "def get_anser(query):\n",
    "   return pd.read_sql_query(query, con=engine)    "
   ]
  },
  {
   "cell_type": "code",
   "execution_count": 7,
   "id": "60875b71",
   "metadata": {},
   "outputs": [],
   "source": [
    "def check_condtion(condition):\n",
    "    try:\n",
    "        res = get_anser(f'''select count(distinct hhkey)\n",
    "                               from cps.household_pet\n",
    "                               where {condition}''').values[0][0]\n",
    "        if res ==0:\n",
    "            return  ValueError(\"Условие пустое\")\n",
    "        else:\n",
    "            print('Всего', res)\n",
    "            return res\n",
    "        \n",
    "    except:\n",
    "        print('Ошибка условия')\n",
    "        raise ValueError( 'Ошибка условия')"
   ]
  },
  {
   "cell_type": "code",
   "execution_count": 8,
   "id": "a843631d",
   "metadata": {},
   "outputs": [],
   "source": [
    "def get_id_flth(claster,filter_lable, conn):\n",
    "    claster_list =['cmt_international_cluster_3','cmt_retail_cluster','ast','cmt_international_cluster_2','cmt_international_cluster_1','cmt_local_cluster', 'cmt_pharma_cluster']\n",
    "    if claster not in claster_list:\n",
    "      raise ValueError('Кластер указан неверно')\n",
    "    filter_name = make_name(filter_lable)\n",
    "    id_flt = get_anser(f\"\"\" select id_flt\n",
    "FROM metadata.ctlg_flt\n",
    "where table_name = '{filter_name}' and table_schema = '{claster}'\n",
    "\"\"\")\n",
    "    if len(id_flt) == 1:\n",
    "     print('Уже есть! ID', id_flt.values[0][0])\n",
    "     return id_flt.values[0][0]\n",
    "    elif len(id_flt) == 0:\n",
    "     make_meta = f\"\"\"INSERT INTO metadata.ctlg_flt (flt_type, table_schema, table_name, flt_label, flt_path )\n",
    "    VALUES ('flt-h', '{claster}', {filter_name}, '{filter_lable}','/' );\"\"\"\n",
    "     make_quere(make_meta, conn)\n",
    "     print('Добавили мету')\n",
    "     time.sleep(1)\n",
    "     return get_id_flth(claster,filter_lable,conn) "
   ]
  },
  {
   "cell_type": "code",
   "execution_count": 9,
   "id": "06fe9b83",
   "metadata": {},
   "outputs": [],
   "source": [
    "def make_flth(claster, filter_lable, condition, conn):\n",
    "    filter_name = make_name(filter_lable)\n",
    "    print(claster,filter_name)\n",
    "    check = check_condtion(condition)\n",
    "    id_flth = get_id_flth(claster, filter_lable, conn)\n",
    "    make_filter = f\"\"\"CREATE OR REPLACE VIEW {claster}.{filter_name} AS\n",
    "select {id_flth} as id_flt,\n",
    "hp.hhkey,\n",
    "dt_record AS dt_year\n",
    "from cps.household_pet hp\n",
    "where {condition}\n",
    "\"\"\"\n",
    "    make_quere(make_filter, conn)\n",
    "    new_flth = get_anser(f'''select count(distinct hhkey)\n",
    "from {claster}.{filter_name}''').values[0][0]\n",
    "    if new_flth != check:\n",
    "        return f\"Ошибка {claster}.{filter_name}, условие не совпадает с созданным фильром \"\n",
    "    else:\n",
    "        make_right=f\"\"\"GRANT UPDATE, TRIGGER, TRUNCATE, REFERENCES, INSERT, SELECT, DELETE ON TABLE {claster}.{filter_name} TO \"msr.shinyproxy.svc\";\"\"\"\n",
    "        make_quere(make_right, conn)\n",
    "\n",
    "        new_owener = f\"\"\"ALTER table {claster}.{filter_name}  OWNER TO gfk_developers;\"\"\"\n",
    "        make_quere(new_owener, conn)\n",
    "        \n",
    "        \n",
    "        return print(f\"Фильтр {claster}.{filter_name} готов!\")"
   ]
  },
  {
   "cell_type": "code",
   "execution_count": 10,
   "id": "59888e4f",
   "metadata": {},
   "outputs": [],
   "source": [
    "def make_list(s:str, qu=False):\n",
    "    if s.count('\\n') < s.count(',')  :\n",
    "        return [w.strip() for w in  s.replace('[','').replace(']','').replace('\\n','').split(',')]\n",
    "    else:\n",
    "        if qu==False:\n",
    "            return s.replace('[','').replace(']','').split('\\n')\n",
    "        else:    \n",
    "            return [ f\"'{w.strip()}'\" for w in s.replace('[','').replace(']','').split('\\n') ]\n",
    "\n",
    "\n",
    "conn.rollback()"
   ]
  },
  {
   "cell_type": "markdown",
   "id": "125ded3f",
   "metadata": {},
   "source": [
    "#Фильтры"
   ]
  },
  {
   "cell_type": "code",
   "execution_count": 11,
   "id": "609435c4",
   "metadata": {},
   "outputs": [],
   "source": [
    "#Community Size\n",
    "com =  '\"Community Size 2013\"'\n",
    "#com =  '\"Community Size 2020\"'\n",
    "\n",
    "\n",
    "com_values = make_list(\"\"\"10-49 ths\n",
    "> 1 mln\n",
    "250-499 ths\n",
    "500-999 ths\n",
    "50-249 ths\n",
    "Moscow\n",
    "Rural\n",
    "St.Petersburg \"\"\")\n",
    "\n",
    "\n",
    "\n",
    "com_cond_spec = f\"\"\"{com} in ({com_values})\"\"\".replace('[','').replace(']','')\n",
    "com_urban = f\"\"\"{com} <> 'Rural' \"\"\"\n",
    "com_derevnya = f\"\"\" {com} = 'Rural' \"\"\""
   ]
  },
  {
   "cell_type": "code",
   "execution_count": 12,
   "id": "a460e29c",
   "metadata": {},
   "outputs": [],
   "source": [
    "#Субъект\n",
    "reg_list =make_list(\"\"\"Moscow, St. Petersburg, Moskovskaya oblast, Leningradskaya oblast\"\"\") \n",
    "reg_cond = f\"\"\" \"Federation Subject\" in({reg_list})\"\"\".replace('[','').replace(']','') \n"
   ]
  },
  {
   "cell_type": "code",
   "execution_count": 13,
   "id": "3da6ab9e",
   "metadata": {},
   "outputs": [
    {
     "data": {
      "text/plain": [
       "' \"Federal Okrug\" in(\\'Moscow\\', \\'Central\\', \\'North-West\\', \\'St. Petersburg\\', \\'Privolzhie\\', \\'South\\', \\'Far East\\')'"
      ]
     },
     "execution_count": 13,
     "metadata": {},
     "output_type": "execute_result"
    }
   ],
   "source": [
    "#Округ \n",
    "fo_list =make_list(\"\"\"Moscow, Central, North-West, St. Petersburg, Privolzhie, South, Far East\"\"\") \n",
    "fo_cond = f\"\"\" \"Federal Okrug\" in({fo_list})\"\"\".replace('[','').replace(']','') \n",
    "fo_cond\n"
   ]
  },
  {
   "cell_type": "code",
   "execution_count": 14,
   "id": "e5a1a3d8",
   "metadata": {},
   "outputs": [],
   "source": [
    "baby_month = (12,18)\n",
    "#baby_features = '\"Age of Baby wo BR\"'\n",
    "baby_features = '\"Age of Baby\"'\n",
    "months = ', '.join([f\"'{str(i).zfill(2)} monthes'\" for i in range(baby_month[0],baby_month[1]+1)])\n",
    "baby_cond = f\"\"\" {baby_features} in ({months}) \"\"\""
   ]
  },
  {
   "cell_type": "code",
   "execution_count": 15,
   "id": "3547ec19",
   "metadata": {},
   "outputs": [],
   "source": [
    "#mommy\n",
    "mommy_list = make_list('''1st time\n",
    "1st time + baby < 49 mth.\n",
    "2nd time\n",
    "2nd time + baby < 49 mth.\n",
    "N/A\n",
    "NA''')\n",
    "\n",
    "momy_features = '\"Maternity\"'\n",
    "momy_cond = momy_features + f' in ({mommy_list[2:4]})'.replace('[','').replace(']','')"
   ]
  },
  {
   "cell_type": "code",
   "execution_count": 16,
   "id": "582be766",
   "metadata": {},
   "outputs": [
    {
     "name": "stdout",
     "output_type": "stream",
     "text": [
      "NULLIF(\"Age of 2nd person\", 'N/A'::text)::numeric >= 0::numeric AND NULLIF(\"Age of 2nd person\", 'N/A'::text)::numeric <= 3::numeric OR\n",
      "NULLIF(\"Age of 3rd person\", 'N/A'::text)::numeric >= 0::numeric AND NULLIF(\"Age of 3rd person\", 'N/A'::text)::numeric <= 3::numeric OR\n",
      "NULLIF(\"Age of 4th person\", 'N/A'::text)::numeric >= 0::numeric AND NULLIF(\"Age of 4th person\", 'N/A'::text)::numeric <= 3::numeric OR\n",
      "NULLIF(\"Age of 5th person\", 'N/A'::text)::numeric >= 0::numeric AND NULLIF(\"Age of 5th person\", 'N/A'::text)::numeric <= 3::numeric OR\n",
      "NULLIF(\"Age of 6th person\", 'N/A'::text)::numeric >= 0::numeric AND NULLIF(\"Age of 6th person\", 'N/A'::text)::numeric <= 3::numeric OR\n",
      "NULLIF(\"Age of 7th person\", 'N/A'::text)::numeric >= 0::numeric AND NULLIF(\"Age of 7th person\", 'N/A'::text)::numeric <= 3::numeric OR\n",
      "NULLIF(\"Age of 8th person\", 'N/A'::text)::numeric >= 0::numeric AND NULLIF(\"Age of 8th person\", 'N/A'::text)::numeric <= 3::numeric OR\n",
      "NULLIF(\"Age of 9th person\", 'N/A'::text)::numeric >= 0::numeric AND NULLIF(\"Age of 9th person\", 'N/A'::text)::numeric <= 3::numeric OR\n",
      "NULLIF(\"Age of 10th person\", 'N/A'::text)::numeric >= 0::numeric AND NULLIF(\"Age of 10th person\", 'N/A'::text)::numeric <= 3::numeric\n"
     ]
    }
   ],
   "source": [
    "#Age of \n",
    "ages = (0, 3)\n",
    "\n",
    "age_feature =make_list(\"\"\"Age of 2nd person\n",
    "Age of 3rd person\n",
    "Age of 4th person\n",
    "Age of 5th person\n",
    "Age of 6th person\n",
    "Age of 7th person\n",
    "Age of 8th person\n",
    "Age of 9th person\n",
    "Age of 10th person\"\"\") #Age of 1st person\n",
    "\n",
    "cond = f\"\"\"NULLIF(\"{age_feature}\", 'N/A'::text)::numeric >= {ages[0]}::numeric AND NULLIF(\"{age_feature}\", 'N/A'::text)::numeric <= {ages[1]}::numeric\"\"\"\n",
    "age_final_cond = []\n",
    "for person in age_feature:\n",
    "    cond = f\"\"\"NULLIF(\"{person}\", 'N/A'::text)::numeric >= {ages[0]}::numeric AND NULLIF(\"{person}\", 'N/A'::text)::numeric <= {ages[1]}::numeric OR\"\"\"\n",
    "    age_final_cond.append(cond) \n",
    "\n",
    "\n",
    "age_final_cond = '\\n'.join(age_final_cond)[:-3]\n",
    "print(age_final_cond)"
   ]
  },
  {
   "cell_type": "code",
   "execution_count": 17,
   "id": "e5ac3023",
   "metadata": {},
   "outputs": [],
   "source": [
    "#Hosewife\n",
    "housewife_values = [ ['up to 19 year','20-29 years'],\n",
    "['30-39 years'],\n",
    "['40-49 years'],\n",
    "['50-65  years'],\n",
    "['66 years and older']]\n",
    "\n",
    "wife_lables = make_list(\"up to 29, 30-39, 40-49, 50-65, 65+\")\n",
    "\n",
    "\n"
   ]
  },
  {
   "cell_type": "code",
   "execution_count": 18,
   "id": "33332e74",
   "metadata": {},
   "outputs": [
    {
     "name": "stdout",
     "output_type": "stream",
     "text": [
      "Всего 8573\n",
      " \"Age of housewife\"  in ('50-65  years')\n"
     ]
    }
   ],
   "source": [
    "cond = f\" \\\"Age of housewife\\\"  in ({housewife_values[3]})\".replace('[','').replace(']','')\n",
    "check_condtion(cond)\n",
    "print(cond)"
   ]
  },
  {
   "cell_type": "code",
   "execution_count": 19,
   "id": "e079847c",
   "metadata": {},
   "outputs": [],
   "source": [
    "#money\n",
    "money_fit = \"HH net income 2018\"\n",
    "\n",
    "money_values =make_list(\"\"\"up to 10000 rbls.\n",
    "10001-14000 rbls.\n",
    "14001-19000 rbls.\n",
    "19001-27000 rbls.\n",
    "27001-45000 rbls.\n",
    "45001-60000 rbls.\n",
    "60001-80000 rbls.\n",
    "80001-100000 rbls.\n",
    "more than 100000 rbls.\"\"\")"
   ]
  },
  {
   "cell_type": "code",
   "execution_count": 20,
   "id": "d8ecc96f",
   "metadata": {},
   "outputs": [],
   "source": [
    "conn.rollback()"
   ]
  },
  {
   "cell_type": "code",
   "execution_count": 21,
   "id": "e2c8038b",
   "metadata": {},
   "outputs": [
    {
     "name": "stdout",
     "output_type": "stream",
     "text": [
      " \"Federal Okrug\" in('Moscow', 'Central', 'North-West', 'St. Petersburg', 'Privolzhie', 'South', 'Far East')\n"
     ]
    }
   ],
   "source": [
    "#list of cond\n",
    "# com_urban com_derevnya  baby_cond momy_cond fo_cond reg_cond\n",
    "\n",
    "final_cond = fo_cond\n",
    "print(final_cond) "
   ]
  },
  {
   "cell_type": "code",
   "execution_count": 22,
   "id": "cee12507",
   "metadata": {},
   "outputs": [],
   "source": [
    "clastres = ['cmt_international_cluster_3',\n",
    " 'cmt_retail_cluster',\n",
    " 'ast',\n",
    " 'cmt_international_cluster_2',\n",
    " 'cmt_international_cluster_1',\n",
    " 'South_Pepsico_custom',\n",
    " 'cmt_local_cluster',\n",
    " 'cmt_pharma_cluster']"
   ]
  },
  {
   "cell_type": "code",
   "execution_count": 23,
   "id": "e7431d24",
   "metadata": {},
   "outputs": [
    {
     "data": {
      "text/plain": [
       "' \"Federal Okrug\" in(\\'Moscow\\', \\'Central\\', \\'North-West\\', \\'St. Petersburg\\', \\'Privolzhie\\', \\'South\\', \\'Far East\\')'"
      ]
     },
     "execution_count": 23,
     "metadata": {},
     "output_type": "execute_result"
    }
   ],
   "source": [
    "final_cond"
   ]
  },
  {
   "cell_type": "code",
   "execution_count": 24,
   "id": "e5d2be47",
   "metadata": {},
   "outputs": [
    {
     "name": "stdout",
     "output_type": "stream",
     "text": [
      "cmt_retail_cluster flth_gl_vinlab_total_geo\n",
      "Всего 24760\n",
      "Добавили мету\n",
      "Уже есть! ID 328\n",
      "Фильтр cmt_retail_cluster.flth_gl_vinlab_total_geo готов!\n"
     ]
    }
   ],
   "source": [
    "make_flth('cmt_retail_cluster','gl_vinlab_total_geo',final_cond, conn )"
   ]
  }
 ],
 "metadata": {
  "kernelspec": {
   "display_name": "base",
   "language": "python",
   "name": "python3"
  },
  "language_info": {
   "codemirror_mode": {
    "name": "ipython",
    "version": 3
   },
   "file_extension": ".py",
   "mimetype": "text/x-python",
   "name": "python",
   "nbconvert_exporter": "python",
   "pygments_lexer": "ipython3",
   "version": "3.12.4"
  }
 },
 "nbformat": 4,
 "nbformat_minor": 5
}

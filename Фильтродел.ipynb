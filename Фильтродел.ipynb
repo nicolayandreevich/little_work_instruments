{
 "cells": [
  {
   "cell_type": "code",
   "execution_count": 2,
   "id": "2611fba2-2a14-4be3-a64f-8d30861dc1b3",
   "metadata": {},
   "outputs": [],
   "source": [
    "import re\n",
    "import pandas as pd\n",
    "from sqlalchemy import create_engine, text\n",
    "import time\n",
    "import json"
   ]
  },
  {
   "cell_type": "code",
   "execution_count": 25,
   "id": "1590c015",
   "metadata": {},
   "outputs": [],
   "source": [
    "with open(r'../yavki_paroli.txt') as f:\n",
    "    yavki = json.loads(f.read().replace(\"'\",'\"').replace('\\n',''))  "
   ]
  },
  {
   "cell_type": "code",
   "execution_count": 26,
   "id": "52f1c938",
   "metadata": {},
   "outputs": [],
   "source": [
    "db_config = yavki\n",
    "\n",
    "connection_string = f'postgresql://{db_config['user']}:{db_config['pwd']}@{db_config['host']}:{db_config['port']}/{db_config['db']}'\n",
    "engine = create_engine(connection_string)\n",
    "conn = engine.connect()"
   ]
  },
  {
   "cell_type": "code",
   "execution_count": 27,
   "id": "5c5d4cee",
   "metadata": {},
   "outputs": [],
   "source": [
    "def make_name(name):\n",
    "    return \"flth_\" + re.sub('[^0-9a-zA-Z]+','_',name.lower())"
   ]
  },
  {
   "cell_type": "code",
   "execution_count": 28,
   "id": "2faf9ab2",
   "metadata": {},
   "outputs": [],
   "source": [
    "def make_quere(query, conection):\n",
    "    if conection._still_open_and_dbapi_connection_is_valid == True:\n",
    "        conection.execute(text(query))\n",
    "        conection.commit()\n",
    "    else:\n",
    "        print('Не получилось, пробую ещё раз')\n",
    "        conection.rollback()\n",
    "        conection.execute(text(query))\n",
    "        conection.commit()\n",
    "        \n",
    "def get_anser(query):\n",
    "   return pd.read_sql_query(query, con=engine)    "
   ]
  },
  {
   "cell_type": "code",
   "execution_count": 29,
   "id": "60875b71",
   "metadata": {},
   "outputs": [],
   "source": [
    "def check_condtion(condition):\n",
    "    try:\n",
    "        res = get_anser(f'''select count(distinct hhkey)\n",
    "                               from cps.household_pet\n",
    "                               where {condition}''').values[0][0]\n",
    "        if res ==0:\n",
    "            return  ValueError(\"Условие пустое\")\n",
    "        else:\n",
    "            print('Всего', res)\n",
    "            return res\n",
    "        \n",
    "    except:\n",
    "        print('Ошибка условия')\n",
    "        raise ValueError( 'Ошибка условия')"
   ]
  },
  {
   "cell_type": "code",
   "execution_count": 30,
   "id": "a843631d",
   "metadata": {},
   "outputs": [],
   "source": [
    "def get_id_flth(claster,filter_lable, conn):\n",
    "    claster_list =['cmt_international_cluster_3','cmt_retail_cluster','ast','cmt_international_cluster_2','cmt_international_cluster_1','cmt_local_cluster', 'cmt_pharma_cluster']\n",
    "    if claster not in claster_list:\n",
    "      raise ValueError('Кластер указан неверно')\n",
    "    filter_name = make_name(filter_lable)\n",
    "    id_flt = get_anser(f\"\"\" select id_flt\n",
    "FROM metadata.ctlg_flt\n",
    "where table_name = '{filter_name}' and table_schema = '{claster}'\n",
    "\"\"\")\n",
    "    if len(id_flt) == 1:\n",
    "     print('Уже есть! ID', id_flt.values[0][0])\n",
    "     return id_flt.values[0][0]\n",
    "    elif len(id_flt) == 0:\n",
    "     make_meta = f\"\"\"INSERT INTO metadata.ctlg_flt (flt_type, table_schema, table_name, flt_label, flt_path )\n",
    "    VALUES ('flt-h', '{claster}', '{filter_name}', '{filter_lable}','/' );\"\"\"\n",
    "     make_quere(make_meta, conn)\n",
    "     print('Добавили мету')\n",
    "     time.sleep(1)\n",
    "     return get_id_flth(claster,filter_lable,conn) "
   ]
  },
  {
   "cell_type": "code",
   "execution_count": 31,
   "id": "06fe9b83",
   "metadata": {},
   "outputs": [],
   "source": [
    "def make_flth(claster, filter_lable, condition, conn):\n",
    "    filter_name = make_name(filter_lable)\n",
    "    print(claster,filter_name)\n",
    "    check = check_condtion(condition)\n",
    "    id_flth = get_id_flth(claster, filter_lable, conn)\n",
    "    make_filter = f\"\"\"CREATE OR REPLACE VIEW {claster}.{filter_name} AS\n",
    "select {id_flth} as id_flt,\n",
    "hp.hhkey,\n",
    "dt_record AS dt_year\n",
    "from cps.household_pet hp\n",
    "where {condition}\n",
    "\"\"\"\n",
    "    make_quere(make_filter, conn)\n",
    "    new_flth = get_anser(f'''select count(distinct hhkey)\n",
    "from {claster}.{filter_name}''').values[0][0]\n",
    "    if new_flth != check:\n",
    "        return f\"Ошибка {claster}.{filter_name}, условие не совпадает с созданным фильром \"\n",
    "    else:\n",
    "        make_right=f\"\"\"GRANT UPDATE, TRIGGER, TRUNCATE, REFERENCES, INSERT, SELECT, DELETE ON TABLE {claster}.{filter_name} TO \"msr.shinyproxy.svc\";\"\"\"\n",
    "        make_quere(make_right, conn)\n",
    "\n",
    "        new_owener = f\"\"\"ALTER table {claster}.{filter_name}  OWNER TO gfk_developers;\"\"\"\n",
    "        make_quere(new_owener, conn)\n",
    "        \n",
    "        \n",
    "        return print(f\"Фильтр {claster}.{filter_name} готов!\")"
   ]
  },
  {
   "cell_type": "code",
   "execution_count": 8,
   "id": "59888e4f",
   "metadata": {},
   "outputs": [],
   "source": [
    "def make_list(s:str, qu=False):\n",
    "    if s.count('\\n') < s.count(',')  :\n",
    "        return [w.strip() for w in  s.replace('[','').replace(']','').replace('\\n','').split(',')]\n",
    "    else:\n",
    "        if qu==False:\n",
    "            return [ j.strip() for  j in s.replace('[','').replace(']','').split('\\n') if len(j)>0]\n",
    "        else:    \n",
    "            return [ f\"'{w.strip()}'\" for w in s.replace('[','').replace(']','').split('\\n') ]\n"
   ]
  },
  {
   "cell_type": "markdown",
   "id": "125ded3f",
   "metadata": {},
   "source": [
    "#Фильтры"
   ]
  },
  {
   "cell_type": "code",
   "execution_count": 80,
   "id": "609435c4",
   "metadata": {},
   "outputs": [],
   "source": [
    "#Community Size\n",
    "#com =  '\"Community Size 2013\"'\n",
    "com =  '\"Community Size 2020\"'\n",
    "\n",
    "\n",
    "com_values = make_list(\"\"\"Moscow\n",
    "                       St.Petersburg\n",
    "                       > 1 mln.\n",
    "                       500-999 ths.\n",
    "                       250-499 ths.\n",
    "                       100-249 ths.\n",
    "                       50-99 ths.\n",
    "                       < 50 ths.\n",
    "                       Rural\"\"\")\n",
    "\n",
    "\n",
    "\n",
    "com_cond_spec = f\"\"\"{com} in ({com_values[4:6]})\"\"\".replace('[','').replace(']','')\n",
    "com_urban = f\"\"\"{com} <> 'Rural' \"\"\"\n",
    "com_one =  f\"\"\" {com} = '{com_values[2]}' \"\"\""
   ]
  },
  {
   "cell_type": "code",
   "execution_count": 73,
   "id": "725312f4",
   "metadata": {},
   "outputs": [
    {
     "data": {
      "text/plain": [
       "'\"Community Size 2020\" in (\\'250-499 ths.\\', \\'100-249 ths.\\')'"
      ]
     },
     "execution_count": 73,
     "metadata": {},
     "output_type": "execute_result"
    }
   ],
   "source": [
    "com_cond_spec"
   ]
  },
  {
   "cell_type": "code",
   "execution_count": 34,
   "id": "a460e29c",
   "metadata": {},
   "outputs": [],
   "source": [
    "#Субъект\n",
    "reg_list =make_list(\"\"\"Moscow, St. Petersburg, Moskovskaya oblast, Leningradskaya oblast\"\"\") \n",
    "reg_cond = f\"\"\" \"Federation Subject\" in({reg_list})\"\"\".replace('[','').replace(']','') \n"
   ]
  },
  {
   "cell_type": "code",
   "execution_count": 50,
   "id": "3da6ab9e",
   "metadata": {},
   "outputs": [],
   "source": [
    "#Округ \n",
    "fo_list =make_list(\"\"\"Moscow, Central, North-West, St.Petersburg, Privolzhie, South, Far East\"\"\") \n",
    "fo_cond = f\"\"\" \"Federal Okrug\" in({fo_list})\"\"\".replace('[','').replace(']','') \n",
    "fo_one = f\"\"\" \"Federal Okrug\" = '{fo_list[3]}'\"\"\"\n",
    "\n"
   ]
  },
  {
   "cell_type": "code",
   "execution_count": 36,
   "id": "e5a1a3d8",
   "metadata": {},
   "outputs": [],
   "source": [
    "baby_month = (12,18)\n",
    "#baby_features = '\"Age of Baby wo BR\"'\n",
    "baby_features = '\"Age of Baby\"'\n",
    "months = ', '.join([f\"'{str(i).zfill(2)} monthes'\" for i in range(baby_month[0],baby_month[1]+1)])\n",
    "baby_cond = f\"\"\" {baby_features} in ({months}) \"\"\""
   ]
  },
  {
   "cell_type": "code",
   "execution_count": 37,
   "id": "3547ec19",
   "metadata": {},
   "outputs": [],
   "source": [
    "#mommy\n",
    "mommy_list = make_list('''1st time\n",
    "1st time + baby < 49 mth.\n",
    "2nd time\n",
    "2nd time + baby < 49 mth.\n",
    "N/A\n",
    "NA''')\n",
    "\n",
    "momy_features = '\"Maternity\"'\n",
    "momy_cond = momy_features + f' in ({mommy_list[2:4]})'.replace('[','').replace(']','')"
   ]
  },
  {
   "cell_type": "code",
   "execution_count": 38,
   "id": "582be766",
   "metadata": {},
   "outputs": [
    {
     "name": "stdout",
     "output_type": "stream",
     "text": [
      "NULLIF(\"Age of 2nd person\", 'N/A'::text)::numeric >= 0::numeric AND NULLIF(\"Age of 2nd person\", 'N/A'::text)::numeric <= 3::numeric OR\n",
      "NULLIF(\"Age of 3rd person\", 'N/A'::text)::numeric >= 0::numeric AND NULLIF(\"Age of 3rd person\", 'N/A'::text)::numeric <= 3::numeric OR\n",
      "NULLIF(\"Age of 4th person\", 'N/A'::text)::numeric >= 0::numeric AND NULLIF(\"Age of 4th person\", 'N/A'::text)::numeric <= 3::numeric OR\n",
      "NULLIF(\"Age of 5th person\", 'N/A'::text)::numeric >= 0::numeric AND NULLIF(\"Age of 5th person\", 'N/A'::text)::numeric <= 3::numeric OR\n",
      "NULLIF(\"Age of 6th person\", 'N/A'::text)::numeric >= 0::numeric AND NULLIF(\"Age of 6th person\", 'N/A'::text)::numeric <= 3::numeric OR\n",
      "NULLIF(\"Age of 7th person\", 'N/A'::text)::numeric >= 0::numeric AND NULLIF(\"Age of 7th person\", 'N/A'::text)::numeric <= 3::numeric OR\n",
      "NULLIF(\"Age of 8th person\", 'N/A'::text)::numeric >= 0::numeric AND NULLIF(\"Age of 8th person\", 'N/A'::text)::numeric <= 3::numeric OR\n",
      "NULLIF(\"Age of 9th person\", 'N/A'::text)::numeric >= 0::numeric AND NULLIF(\"Age of 9th person\", 'N/A'::text)::numeric <= 3::numeric OR\n",
      "NULLIF(\"Age of 10th person\", 'N/A'::text)::numeric >= 0::numeric AND NULLIF(\"Age of 10th person\", 'N/A'::text)::numeric <= 3::numeric\n"
     ]
    }
   ],
   "source": [
    "#Age of \n",
    "ages = (0, 3)\n",
    "\n",
    "age_feature =make_list(\"\"\"Age of 2nd person\n",
    "Age of 3rd person\n",
    "Age of 4th person\n",
    "Age of 5th person\n",
    "Age of 6th person\n",
    "Age of 7th person\n",
    "Age of 8th person\n",
    "Age of 9th person\n",
    "Age of 10th person\"\"\") #Age of 1st person\n",
    "\n",
    "cond = f\"\"\"NULLIF(\"{age_feature}\", 'N/A'::text)::numeric >= {ages[0]}::numeric AND NULLIF(\"{age_feature}\", 'N/A'::text)::numeric <= {ages[1]}::numeric\"\"\"\n",
    "age_final_cond = []\n",
    "for person in age_feature:\n",
    "    cond = f\"\"\"NULLIF(\"{person}\", 'N/A'::text)::numeric >= {ages[0]}::numeric AND NULLIF(\"{person}\", 'N/A'::text)::numeric <= {ages[1]}::numeric OR\"\"\"\n",
    "    age_final_cond.append(cond) \n",
    "\n",
    "\n",
    "age_final_cond = '\\n'.join(age_final_cond)[:-3]\n",
    "print(age_final_cond)"
   ]
  },
  {
   "cell_type": "code",
   "execution_count": 39,
   "id": "e5ac3023",
   "metadata": {},
   "outputs": [],
   "source": [
    "#Hosewife\n",
    "housewife_values = [ ['up to 19 year','20-29 years'],\n",
    "['30-39 years'],\n",
    "['40-49 years'],\n",
    "['50-65  years'],\n",
    "['66 years and older']]\n",
    "\n",
    "wife_lables = make_list(\"up to 29, 30-39, 40-49, 50-65, 65+\")\n",
    "\n",
    "\n"
   ]
  },
  {
   "cell_type": "code",
   "execution_count": 40,
   "id": "33332e74",
   "metadata": {},
   "outputs": [
    {
     "name": "stdout",
     "output_type": "stream",
     "text": [
      "Всего 8573\n",
      " \"Age of housewife\"  in ('50-65  years')\n"
     ]
    }
   ],
   "source": [
    "cond = f\" \\\"Age of housewife\\\"  in ({housewife_values[3]})\".replace('[','').replace(']','')\n",
    "check_condtion(cond)\n",
    "print(cond)"
   ]
  },
  {
   "cell_type": "code",
   "execution_count": 41,
   "id": "e079847c",
   "metadata": {},
   "outputs": [],
   "source": [
    "#money\n",
    "money_fit = \"HH net income 2018\"\n",
    "\n",
    "money_values =make_list(\"\"\"up to 10000 rbls.\n",
    "10001-14000 rbls.\n",
    "14001-19000 rbls.\n",
    "19001-27000 rbls.\n",
    "27001-45000 rbls.\n",
    "45001-60000 rbls.\n",
    "60001-80000 rbls.\n",
    "80001-100000 rbls.\n",
    "more than 100000 rbls.\"\"\")"
   ]
  },
  {
   "cell_type": "code",
   "execution_count": 42,
   "id": "d8ecc96f",
   "metadata": {},
   "outputs": [],
   "source": [
    "conn.rollback()"
   ]
  },
  {
   "cell_type": "code",
   "execution_count": null,
   "id": "63246ef2",
   "metadata": {},
   "outputs": [],
   "source": [
    "clastres = ['cmt_international_cluster_3',\n",
    " 'cmt_retail_cluster',\n",
    " 'ast',\n",
    " 'cmt_international_cluster_2',\n",
    " 'cmt_international_cluster_1',\n",
    " 'South_Pepsico_custom',\n",
    " 'cmt_local_cluster',\n",
    " 'cmt_pharma_cluster']"
   ]
  },
  {
   "cell_type": "code",
   "execution_count": 81,
   "id": "e2c8038b",
   "metadata": {},
   "outputs": [
    {
     "name": "stdout",
     "output_type": "stream",
     "text": [
      " \"Community Size 2020\" = '> 1 mln.' \n"
     ]
    }
   ],
   "source": [
    "#list of cond\n",
    "# com_cond_spec  baby_cond momy_cond fo_cond fo_one reg_cond\n",
    "\n",
    "final_cond = com_one\n",
    "print(final_cond) "
   ]
  },
  {
   "cell_type": "code",
   "execution_count": 52,
   "id": "e7431d24",
   "metadata": {},
   "outputs": [
    {
     "name": "stdout",
     "output_type": "stream",
     "text": [
      "Всего 1683\n"
     ]
    },
    {
     "data": {
      "text/plain": [
       "1683"
      ]
     },
     "execution_count": 52,
     "metadata": {},
     "output_type": "execute_result"
    }
   ],
   "source": [
    "check_condtion(final_cond)"
   ]
  },
  {
   "cell_type": "code",
   "execution_count": 82,
   "id": "e5d2be47",
   "metadata": {},
   "outputs": [
    {
     "name": "stdout",
     "output_type": "stream",
     "text": [
      "cmt_retail_cluster flth_yandex_1_mil_excl_moscow_and_spb\n",
      "Всего 10458\n",
      "Добавили мету\n",
      "Уже есть! ID 342\n",
      "Фильтр cmt_retail_cluster.flth_yandex_1_mil_excl_moscow_and_spb готов!\n"
     ]
    }
   ],
   "source": [
    "make_flth('cmt_retail_cluster','Yandex 1 mil excl. Moscow and SPB',final_cond, conn )"
   ]
  },
  {
   "cell_type": "code",
   "execution_count": 10,
   "id": "cb93f97e",
   "metadata": {},
   "outputs": [],
   "source": [
    "to_remove = make_list(\"\"\"FOOD STORE SPECIALIZED no name\n",
    "AGROKOMPLEKS\n",
    "ALENKA\n",
    "ERMOLINO\n",
    "PALICH\n",
    "BAKERY no name\n",
    "ARIANT\n",
    "VELIKOLUKSKIY MYASOKOMBINAT\n",
    "MYASNOV\n",
    "KRASNAYA IKRA\n",
    "BEER no name\n",
    "DOBRYNINSKIY\n",
    "ARIANT\n",
    "MYASNITCKIY RYAD\n",
    "RUBLEVSKIY\n",
    "TAVROVSKIE MYASNIE LAVKI\n",
    "KHOROSHIY VKUS\n",
    "AGROKOMPLEKS\n",
    "PALICH\n",
    "\"\"\")"
   ]
  },
  {
   "cell_type": "code",
   "execution_count": 11,
   "id": "1074a28e",
   "metadata": {},
   "outputs": [
    {
     "data": {
      "text/plain": [
       "['FOOD STORE SPECIALIZED no name',\n",
       " 'AGROKOMPLEKS',\n",
       " 'ALENKA',\n",
       " 'ERMOLINO',\n",
       " 'PALICH',\n",
       " 'BAKERY no name',\n",
       " 'ARIANT',\n",
       " 'VELIKOLUKSKIY MYASOKOMBINAT',\n",
       " 'MYASNOV',\n",
       " 'KRASNAYA IKRA',\n",
       " 'BEER no name',\n",
       " 'DOBRYNINSKIY',\n",
       " 'ARIANT',\n",
       " 'MYASNITCKIY RYAD',\n",
       " 'RUBLEVSKIY',\n",
       " 'TAVROVSKIE MYASNIE LAVKI',\n",
       " 'KHOROSHIY VKUS',\n",
       " 'AGROKOMPLEKS',\n",
       " 'PALICH']"
      ]
     },
     "execution_count": 11,
     "metadata": {},
     "output_type": "execute_result"
    }
   ],
   "source": [
    "to_remove"
   ]
  },
  {
   "cell_type": "code",
   "execution_count": 12,
   "id": "b1f21726",
   "metadata": {},
   "outputs": [],
   "source": [
    "from_remove = make_list(\"\"\"AGROKOMPLEKS, ALENKA, ARIANT, AT FARMER'S no name, BAKERY no name, BEER no name, BIG DEP. ST. W/COUNT. no name, BIG FOOD MARKET no name, DOBRYNINSKIY, ERMOLINO, FOOD STORE SPECIALIZED no name, FOOD STORE no name, HOUSEHOLD SHOP no name, KHOROSHIY VKUS, KIOSK no name, KRASNAYA IKRA, MYASNITCKIY RYAD, MYASNOV, OPEN MARKET no name, OTHER SHOPS no name, OTHER SHOPS no name, PALICH, PAVILION no name, RUBLEVSKIY, SM. DEP. ST.W/COUNTER no name, STREET TRADE no name, TAVROVSKIE MYASNIE LAVKI, VELIKOLUKSKIY MYASOKOMBINAT, VENDING MACHINE, WHOLESALE no name\"\"\")"
   ]
  },
  {
   "cell_type": "code",
   "execution_count": 16,
   "id": "418d6ec9",
   "metadata": {},
   "outputs": [
    {
     "name": "stdout",
     "output_type": "stream",
     "text": [
      "OPEN MARKET no name,VENDING MACHINE,HOUSEHOLD SHOP no name,BIG DEP. ST. W/COUNT. no name,PAVILION no name,WHOLESALE no name,SM. DEP. ST.W/COUNTER no name,BIG FOOD MARKET no name,KIOSK no name,AT FARMER'S no name,FOOD STORE no name,STREET TRADE no name,OTHER SHOPS no name\n"
     ]
    }
   ],
   "source": [
    "print(*set(from_remove) - set(to_remove), sep=',')"
   ]
  }
 ],
 "metadata": {
  "kernelspec": {
   "display_name": "base",
   "language": "python",
   "name": "python3"
  },
  "language_info": {
   "codemirror_mode": {
    "name": "ipython",
    "version": 3
   },
   "file_extension": ".py",
   "mimetype": "text/x-python",
   "name": "python",
   "nbconvert_exporter": "python",
   "pygments_lexer": "ipython3",
   "version": "3.12.4"
  }
 },
 "nbformat": 4,
 "nbformat_minor": 5
}

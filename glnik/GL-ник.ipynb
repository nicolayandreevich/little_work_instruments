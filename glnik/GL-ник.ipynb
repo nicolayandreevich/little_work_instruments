{
 "cells": [
  {
   "cell_type": "markdown",
   "metadata": {},
   "source": []
  },
  {
   "cell_type": "code",
   "execution_count": 3,
   "metadata": {},
   "outputs": [],
   "source": [
    "import os, glob\n",
    "from pathlib import Path\n",
    "import shutil\n",
    "from zipfile import ZipFile"
   ]
  },
  {
   "cell_type": "code",
   "execution_count": 4,
   "metadata": {},
   "outputs": [],
   "source": [
    "path =('./')"
   ]
  },
  {
   "cell_type": "code",
   "execution_count": 5,
   "metadata": {},
   "outputs": [],
   "source": [
    "income = Path('./in').glob('*.zip')\n",
    "#print([p for p in income])\n",
    "for zip in income:\n",
    "    with ZipFile(zip) as file:\n",
    "        name_of_GL = file.namelist()\n",
    "        name = name_of_GL[0].split('axsm_')[1].replace('.xlsx','')\n",
    "        shutil.copytree(os.path.join(path,'_Macros'), os.path.join(path,'out', name ) )\n",
    "        os.rename(os.path.join(path,'out', name, \"GL_deodorant_v1.xlsm\"),os.path.join(path,'out' ,name, f\"GL_{name}_v1.xlsm\") )\n",
    "        os.rename(os.path.join(path,'out', name, \"gl_pet_food_v2.xlsm\"),os.path.join(path, 'out',name, f\"GL_{name}_v2.xlsm\") )\n",
    "        file.extractall(os.path.join(path,'out', name ))\n",
    "    "
   ]
  }
 ],
 "metadata": {
  "kernelspec": {
   "display_name": "Python 3",
   "language": "python",
   "name": "python3"
  },
  "language_info": {
   "codemirror_mode": {
    "name": "ipython",
    "version": 3
   },
   "file_extension": ".py",
   "mimetype": "text/x-python",
   "name": "python",
   "nbconvert_exporter": "python",
   "pygments_lexer": "ipython3",
   "version": "3.11.9"
  }
 },
 "nbformat": 4,
 "nbformat_minor": 2
}

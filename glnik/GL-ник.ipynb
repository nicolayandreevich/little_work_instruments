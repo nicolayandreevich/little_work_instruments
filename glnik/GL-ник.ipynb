{
 "cells": [
  {
   "cell_type": "markdown",
   "metadata": {},
   "source": []
  },
  {
   "cell_type": "code",
   "execution_count": 7,
   "metadata": {},
   "outputs": [],
   "source": [
    "import os\n",
    "from pathlib import Path \n",
    "import glob"
   ]
  },
  {
   "cell_type": "code",
   "execution_count": 8,
   "metadata": {},
   "outputs": [],
   "source": [
    "import shutil"
   ]
  },
  {
   "cell_type": "code",
   "execution_count": 9,
   "metadata": {},
   "outputs": [],
   "source": [
    "path = r'C:\\Users\\nyzhur\\Git\\glnik'\n",
    "\n"
   ]
  },
  {
   "cell_type": "code",
   "execution_count": 10,
   "metadata": {},
   "outputs": [],
   "source": [
    "root = os.listdir(path)"
   ]
  },
  {
   "cell_type": "code",
   "execution_count": 11,
   "metadata": {},
   "outputs": [],
   "source": [
    "from zipfile import ZipFile"
   ]
  },
  {
   "cell_type": "code",
   "execution_count": 12,
   "metadata": {},
   "outputs": [],
   "source": [
    "income = Path(path + '\\\\in').glob('*.zip')\n",
    "#print([p for p in income])\n",
    "for zip in income:\n",
    "    with ZipFile(zip) as file:\n",
    "        name_of_GL = file.namelist()\n",
    "        name = name_of_GL[0].split('axsm_')[1].replace('.xlsx','')\n",
    "        shutil.copytree(os.path.join(path,'_Macros'), os.path.join(path,'out', name ) )\n",
    "        os.rename(os.path.join(path,'out', name, \"GL_deodorant_v1.xlsm\"),os.path.join(path,'out' ,name, f\"GL_{name}_v1.xlsm\") )\n",
    "        os.rename(os.path.join(path,'out', name, \"gl_pet_food_v2.xlsm\"),os.path.join(path, 'out',name, f\"GL_{name}_v2.xlsm\") )\n",
    "        file.extractall(os.path.join(path,'out', name ))\n",
    "    "
   ]
  }
 ],
 "metadata": {
  "kernelspec": {
   "display_name": "base",
   "language": "python",
   "name": "python3"
  },
  "language_info": {
   "codemirror_mode": {
    "name": "ipython",
    "version": 3
   },
   "file_extension": ".py",
   "mimetype": "text/x-python",
   "name": "python",
   "nbconvert_exporter": "python",
   "pygments_lexer": "ipython3",
   "version": "3.12.4"
  }
 },
 "nbformat": 4,
 "nbformat_minor": 2
}

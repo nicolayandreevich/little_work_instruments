{
 "cells": [
  {
   "cell_type": "code",
   "execution_count": 36,
   "metadata": {},
   "outputs": [],
   "source": [
    "import pandas as pd\n",
    "from pathlib import Path"
   ]
  },
  {
   "cell_type": "code",
   "execution_count": 37,
   "metadata": {},
   "outputs": [],
   "source": [
    "dir_to_count = Path('../counter')"
   ]
  },
  {
   "cell_type": "code",
   "execution_count": 38,
   "metadata": {},
   "outputs": [],
   "source": [
    "df = []\n",
    "for f in  dir_to_count.iterdir():\n",
    "    tmp = pd.read_csv(f)\n",
    "    tmp.columns = ['HH']\n",
    "    tmp['file'] = f.name\n",
    "    df.append(tmp)"
   ]
  },
  {
   "cell_type": "code",
   "execution_count": 39,
   "metadata": {},
   "outputs": [
    {
     "data": {
      "text/html": [
       "<div>\n",
       "<style scoped>\n",
       "    .dataframe tbody tr th:only-of-type {\n",
       "        vertical-align: middle;\n",
       "    }\n",
       "\n",
       "    .dataframe tbody tr th {\n",
       "        vertical-align: top;\n",
       "    }\n",
       "\n",
       "    .dataframe thead th {\n",
       "        text-align: right;\n",
       "    }\n",
       "</style>\n",
       "<table border=\"1\" class=\"dataframe\">\n",
       "  <thead>\n",
       "    <tr style=\"text-align: right;\">\n",
       "      <th></th>\n",
       "      <th>HH</th>\n",
       "      <th>file</th>\n",
       "    </tr>\n",
       "  </thead>\n",
       "  <tbody>\n",
       "    <tr>\n",
       "      <th>0</th>\n",
       "      <td>913073</td>\n",
       "      <td>Рассылка_20241108_SL_КБ.csv</td>\n",
       "    </tr>\n",
       "    <tr>\n",
       "      <th>1</th>\n",
       "      <td>950502</td>\n",
       "      <td>Рассылка_20241108_SL_КБ.csv</td>\n",
       "    </tr>\n",
       "    <tr>\n",
       "      <th>2</th>\n",
       "      <td>918822</td>\n",
       "      <td>Рассылка_20241108_SL_КБ.csv</td>\n",
       "    </tr>\n",
       "    <tr>\n",
       "      <th>3</th>\n",
       "      <td>927229</td>\n",
       "      <td>Рассылка_20241108_SL_КБ.csv</td>\n",
       "    </tr>\n",
       "    <tr>\n",
       "      <th>4</th>\n",
       "      <td>914268</td>\n",
       "      <td>Рассылка_20241108_SL_КБ.csv</td>\n",
       "    </tr>\n",
       "    <tr>\n",
       "      <th>...</th>\n",
       "      <td>...</td>\n",
       "      <td>...</td>\n",
       "    </tr>\n",
       "    <tr>\n",
       "      <th>97</th>\n",
       "      <td>945801</td>\n",
       "      <td>Рассылка_20241108_SL_КБ.csv</td>\n",
       "    </tr>\n",
       "    <tr>\n",
       "      <th>98</th>\n",
       "      <td>916613</td>\n",
       "      <td>Рассылка_20241108_SL_КБ.csv</td>\n",
       "    </tr>\n",
       "    <tr>\n",
       "      <th>99</th>\n",
       "      <td>923940</td>\n",
       "      <td>Рассылка_20241108_SL_КБ.csv</td>\n",
       "    </tr>\n",
       "    <tr>\n",
       "      <th>100</th>\n",
       "      <td>950856</td>\n",
       "      <td>Рассылка_20241108_SL_КБ.csv</td>\n",
       "    </tr>\n",
       "    <tr>\n",
       "      <th>101</th>\n",
       "      <td>947439</td>\n",
       "      <td>Рассылка_20241108_SL_КБ.csv</td>\n",
       "    </tr>\n",
       "  </tbody>\n",
       "</table>\n",
       "<p>102 rows × 2 columns</p>\n",
       "</div>"
      ],
      "text/plain": [
       "         HH                         file\n",
       "0    913073  Рассылка_20241108_SL_КБ.csv\n",
       "1    950502  Рассылка_20241108_SL_КБ.csv\n",
       "2    918822  Рассылка_20241108_SL_КБ.csv\n",
       "3    927229  Рассылка_20241108_SL_КБ.csv\n",
       "4    914268  Рассылка_20241108_SL_КБ.csv\n",
       "..      ...                          ...\n",
       "97   945801  Рассылка_20241108_SL_КБ.csv\n",
       "98   916613  Рассылка_20241108_SL_КБ.csv\n",
       "99   923940  Рассылка_20241108_SL_КБ.csv\n",
       "100  950856  Рассылка_20241108_SL_КБ.csv\n",
       "101  947439  Рассылка_20241108_SL_КБ.csv\n",
       "\n",
       "[102 rows x 2 columns]"
      ]
     },
     "execution_count": 39,
     "metadata": {},
     "output_type": "execute_result"
    }
   ],
   "source": [
    "df[0]"
   ]
  },
  {
   "cell_type": "code",
   "execution_count": 40,
   "metadata": {},
   "outputs": [],
   "source": [
    "dfe = pd.concat(df)"
   ]
  },
  {
   "cell_type": "code",
   "execution_count": 42,
   "metadata": {},
   "outputs": [],
   "source": [
    "dfe.to_excel('../out.xlsx')"
   ]
  }
 ],
 "metadata": {
  "kernelspec": {
   "display_name": "base",
   "language": "python",
   "name": "python3"
  },
  "language_info": {
   "codemirror_mode": {
    "name": "ipython",
    "version": 3
   },
   "file_extension": ".py",
   "mimetype": "text/x-python",
   "name": "python",
   "nbconvert_exporter": "python",
   "pygments_lexer": "ipython3",
   "version": "3.12.4"
  }
 },
 "nbformat": 4,
 "nbformat_minor": 2
}
